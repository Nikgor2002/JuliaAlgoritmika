{
 "cells": [
  {
   "cell_type": "code",
   "execution_count": 85,
   "metadata": {},
   "outputs": [],
   "source": [
    "using CPUTime\n",
    "using Polynomials\n",
    "using Plots\n",
    "using SpecialFunctions\n",
    "using LinearAlgebra\n"
   ]
  },
  {
   "cell_type": "code",
   "execution_count": 86,
   "metadata": {},
   "outputs": [
    {
     "name": "stdout",
     "output_type": "stream",
     "text": [
      "(x = -0.34782608695652173, y = -0.23913043478260868)\n",
      "(x = 0.0, y = 0.0)\n",
      "THIS\n",
      "(x = 2.6482412060301503, y = 2.1758793969849246)\n",
      "THIS2\n",
      "(x = 3.666666666666667, y = 0.7333333333333334)\n",
      "0.21866894587394162\n",
      "false\n",
      "true\n"
     ]
    }
   ],
   "source": [
    "\n",
    "Vector2D{T<:Real}=NamedTuple{(:x, :y), Tuple{T,T}}\n",
    "\n",
    "Base. +(A::Vector2D{T},B::Vector2D{T}) where T = Vector2D{T}(Tuple(A).+Tuple(B))\n",
    "\n",
    "Base. -(A::Vector2D{T}, B::Vector2D{T}) where T = Vector2D{T}(Tuple(A) .- Tuple(B))\n",
    "\n",
    "Base. *(coeff::T, A::Vector2D{T}) where T = Vector2D{T}(coeff.*Tuple(A))\n",
    "\n",
    "LinearAlgebra.norm(A::Vector2D) = norm(Tuple(A))\n",
    "\n",
    "LinearAlgebra.dot(A::Vector2D{T}, B::Vector2D{T}) where T = dot(Tuple(A), Tuple(B))\n",
    "\n",
    "Base. cos(A::Vector2D{T}, B::Vector2D{T}) where T = dot(A,B)/norm(A)/norm(B)\n",
    "\n",
    "xdot(A::Vector2D{T}, B::Vector2D{T}) where T = A.x*B.y-A.y*B.x\n",
    "\n",
    "Base. sin(A::Vector2D{T}, B::Vector2D{T}) where T = xdot(A,B)/norm(A)/norm(B)\n",
    "\n",
    "Segment2D{T<:Real} = NamedTuple{(:A, :B), Tuple{Vector2D{T},Vector2D{T}}}\n",
    "\n",
    "s=(A=(x=0,y=0), B=(x=1,y=2))\n",
    "\n",
    "function intersect(s1::Segment2D{T},s2::Segment2D{T}) where T\n",
    "    A = [s1.B[2]-s1.A[2]  s1.A[1]-s1.B[1]\n",
    "         s2.B[2]-s2.A[2]  s2.A[1]-s2.B[1]]\n",
    "    b = [s1.A[2]*(s1.A[1]-s1.B[1]) + s1.A[1]*(s1.B[2]-s1.A[2])\n",
    "         s2.A[2]*(s2.A[1]-s2.B[1]) + s2.A[1]*(s2.B[2]-s2.A[2])]\n",
    "    x,y = A\\b\n",
    "    if isinner((;x, y), s1)==false || isinner((;x, y), s2)==false\n",
    "        return nothing\n",
    "    end\n",
    "    return Vector2D{T}((x,y))\n",
    "end\n",
    "\n",
    "isinner(P::Vector2D, s::Segment2D) = (s.A.x <= P.x <= s.B.x || s.A.x >= P.x >= s.B.x) && \n",
    "                                     (s.A.y <= P.y <= s.B.y || s.A.y >= P.y >= s.B.y)\n",
    "\n",
    "\n",
    "s=(A=(x=-1.0,y=-1.0), B=(x=5.0,y=6.0))\n",
    "d=(A=(x=2.0,y=-2.0), B=(x=-10.0,y=7.0))\n",
    "println(intersect(s,d))\n",
    "s = (A=(x=0.0, y=0.0), B=(x=1.0,y=2.0)) # сегмент\n",
    "o = (A=(x=-1.0, y=-1.0), B=(x=3.0,y=3.0))\n",
    "println(intersect(s,o))\n",
    "println(\"THIS\")\n",
    "s=(A=(x=1.0,y=3.0), B=(x=5.0,y=1.0))\n",
    "d=(A=(x=1.1,y=1.0), B=(x=9.0,y=7.0))\n",
    "println(intersect(s,d))\n",
    "\n",
    "println(\"THIS2\")\n",
    "s=(A=(x=5.0,y=1.0), B=(x=0.0,y=0.0))\n",
    "d=(A=(x=7.0,y=0.4), B=(x=1.0,y=1.0))\n",
    "println(intersect(s,d))\n",
    "\n",
    "#- Вычисление угла между двумя направлениями на плоскости (заданными соответствующими векторами).\n",
    "function angle_(s1::Segment2D{T},s2::Segment2D{T}) where T\n",
    "    A = [s1.B[2]-s1.A[2] s1.B[1]-s1.A[1]]\n",
    "    B = [s2.B[2]-s2.A[2] s2.B[1]-s2.A[1]]\n",
    "    \n",
    "    delta= abs(A[1]*B[1] + A[2]*B[2])/(sqrt(A[1]*A[1]+A[2]*A[2])*sqrt(B[1]*B[1]+B[2]*B[2]))\n",
    "\n",
    "    return acos(delta) \n",
    "end\n",
    "function angle_(A::Vector2D{T}, B::Vector2D{T}) where T\n",
    "    if abs(A.x)==abs(B.x) && abs(A.y)==abs(B.y)\n",
    "        return acos(dot(A, A)/abs(dot(A,A)))\n",
    "    end\n",
    "    return acos(dot(A, B)/(sqrt(dot(A,A)) * sqrt(dot(B,B))))\n",
    "end \n",
    "function isinner(m::Vector2D{T}, plg::Vector{Vector2D{T}}) where T\n",
    "    v1 = Vector2D{T}((plg[1][1]-m[1], plg[1][2]-m[2]))\n",
    "    v2 =Vector2D{T}((plg[2][1]-m[1], plg[2][2]-m[2]))\n",
    "    s = xdot(v1,v2)>0\n",
    "    for t in 3:length(plg)\n",
    "        v1 = v2\n",
    "        v2 = Vector2D{T}((plg[t][1]-m[1], plg[t][2]-m[2]))\n",
    "        if (xdot(v1, v2)>0)!=s\n",
    "            return false    \n",
    "        end\n",
    "    end\n",
    "    return true\n",
    "end\n",
    "\n",
    "\n",
    "s=(A=(x=-1.0,y=-1.0), B=(x=5.0,y=6.0))\n",
    "d=(A=(x=-2.0,y=-2.0), B=(x=10.0,y=7.0))\n",
    "println(angle_(s,d))\n",
    "\n",
    "\n",
    "function f(X)\n",
    "    return X[1]*cos(X[2]) - sin(X[1])*X[2]*X[2]\n",
    "end\n",
    "function CheckMap(f::Function,A,B)\n",
    "    alfa=f(A)\n",
    "    delta=f(B)\n",
    "    if ((alfa>0 && delta>0) || (alfa<0 && delta<0))\n",
    "        return true\n",
    "    end\n",
    "    return false\n",
    "end\n",
    "\n",
    "A=[-10 -10]\n",
    "B=[-20 -20]\n",
    "println(CheckMap(f,A,B))\n",
    "\n",
    "A=[1 1]\n",
    "B=[2 2]\n",
    "println(CheckMap(f,A,B))\n"
   ]
  },
  {
   "cell_type": "code",
   "execution_count": 87,
   "metadata": {},
   "outputs": [
    {
     "data": {
      "text/plain": [
       "Polygon{Float64}(NamedTuple{(:x, :y), Tuple{Float64, Float64}}[(x = 0.0, y = 0.0), (x = 1.0, y = 1.0), (x = 3.0, y = -1.0), (x = 3.0, y = -1.0)])"
      ]
     },
     "metadata": {},
     "output_type": "display_data"
    }
   ],
   "source": [
    "Vector2D{T<:Real}=NamedTuple{(:x, :y), Tuple{T,T}}\n",
    "function __double_ended!__(vertices::Vector{Vector2D{T}}) where T <: Real\n",
    "    if vertices[begin]!=vertices[end]\n",
    "        push!(vertices,vertices[end])\n",
    "    end\n",
    "    return vertices\n",
    "end\n",
    "abstract type AbstractPolygon{T<:Real} end\n",
    "struct Polygon{T} <: AbstractPolygon{T}\n",
    "    vertices::Vector{Vector2D{T}}\n",
    "    Polygon{T}(vertices) where T = new(__double_ended!__(vertices))\n",
    "end\n",
    "\n",
    "A=Polygon{Float64}([Vector2D{Float64}((0.0,0.0)), Vector2D{Float64}((1.0,1.0)), Vector2D{Float64}((3.0,-1.0))])\n",
    "\n"
   ]
  },
  {
   "cell_type": "code",
   "execution_count": 88,
   "metadata": {},
   "outputs": [
    {
     "name": "stdout",
     "output_type": "stream",
     "text": [
      "true\n"
     ]
    }
   ],
   "source": [
    "\n",
    "#- Проверка, является ли заданный плоский многоугольник выпуклым.\n",
    "function CheckFigure(C::Polygon)\n",
    "    n=length(C.vertices)\n",
    "    n-=1\n",
    "    for i in 1:n\n",
    "        for j in 1:n\n",
    "            if (i!=j)\n",
    "                if (C.vertices[i][1]==C.vertices[j][1] && C.vertices[i][2]==C.vertices[j][2])\n",
    "                    return false\n",
    "                end\n",
    "            end\n",
    "        end\n",
    "    end\n",
    "    Q=[]\n",
    "    for i in 1:n-1\n",
    "        push!(Q,(A=(x=C.vertices[i][1],y=C.vertices[i][2]), B=(x=C.vertices[i+1][1],y=C.vertices[i+1][2])))\n",
    "    end\n",
    "    push!(Q,(A=(x=C.vertices[1][1],y=C.vertices[1][2]), B=(x=C.vertices[n][1],y=C.vertices[n][2])))\n",
    "    for i in 1:length(Q)\n",
    "        for j in 1:length(Q)\n",
    "            if (i!=j)\n",
    "                alfa=intersect(Q[i],Q[j])\n",
    "                if (alfa==nothing || alfa==Q[i].A || alfa==Q[i].B ||  alfa==Q[j].A || alfa==Q[j].B)\n",
    "                else\n",
    "                    return false\n",
    "                end\n",
    "            end\n",
    "        end\n",
    "    end\n",
    "    return true\n",
    "end\n",
    "\n",
    "C=Polygon{Float64}([Vector2D{Float64}((0.0,0.0)), Vector2D{Float64}((1.0,1.0)), Vector2D{Float64}((3.0,-1.0))])\n",
    "println(CheckFigure(C))"
   ]
  },
  {
   "cell_type": "code",
   "execution_count": 89,
   "metadata": {},
   "outputs": [
    {
     "data": {
      "text/plain": [
       "isinner (generic function with 4 methods)"
      ]
     },
     "metadata": {},
     "output_type": "display_data"
    }
   ],
   "source": [
    "struct ConvexPolygon{T} <: AbstractPolygon{T}\n",
    "    vertices::Vector{Vector2D{T}}\n",
    "    ConvexPolygon{T}(vertices) where T = new(__double_ended!__(vertices))\n",
    "end\n",
    "function isinner(A::Vector2D{T}, polygon::ConvexPolygon{T})::Bool where T\n",
    "    sign_prev = sign(polygon[begin+1]-A, polygon[begin]-A)\n",
    "    for i in firstindex(polygon.vertices)+1:lastindex(polygon.vertices)-1\n",
    "        sign_cur += sign(polygon[i+1]-A, polygon[i]-A)\n",
    "        if sign_prev * sign_cur < 0\n",
    "            return false\n",
    "        end \n",
    "    end\n",
    "    return true\n",
    "end"
   ]
  },
  {
   "cell_type": "code",
   "execution_count": 106,
   "metadata": {},
   "outputs": [
    {
     "data": {
      "text/plain": [
       "isinner (generic function with 4 methods)"
      ]
     },
     "metadata": {},
     "output_type": "display_data"
    }
   ],
   "source": [
    "function isinner(A::Vector2D{T}, polygon::AbstractPolygon{T})::Bool where T\n",
    "    sum_angles = 0.0\n",
    "    for i in firstindex(polygon.vertices):lastindex(polygon.vertices)-1\n",
    "        sum_angles += angle(polygon[i+1]-A, polygon[i]-A)\n",
    "    end\n",
    "    if sum_angles < pi # фактически равно 0\n",
    "        return true # точка внутри многоугольника\n",
    "    else\n",
    "        return false # точка снаружи\n",
    "    end\n",
    "end"
   ]
  },
  {
   "cell_type": "markdown",
   "metadata": {},
   "source": [
    " Написать функцию, реализующую алгоритм Джарвиса построения выпуклой оболочки заданных точек плоскости ."
   ]
  },
  {
   "cell_type": "code",
   "execution_count": 91,
   "metadata": {},
   "outputs": [
    {
     "data": {
      "text/plain": [
       "quad_len (generic function with 1 method)"
      ]
     },
     "metadata": {},
     "output_type": "display_data"
    }
   ],
   "source": [
    "function jarvis(points::Vector{Vector2D{T}})::ConvexPolygon{T} where T<:Real # алгоритм Джарвиса построения выпуклой оболочки заданного множества точек плоскости\n",
    "    @assert length(points) > 1 # иначе операция в строке 9 будет не возможна\n",
    "    # ydata = [points[i][2] for i in 1:length(points)] # - так создавался бы дополонительный массив\n",
    "    ydata = (points[i][2] for i in 1:length(points))  # - а так массив не создается, вместо массива используется генератор\n",
    "    i_start = findmin(ydata) # индекс самой нижней точки\n",
    "    convex_shell = [i_start]\n",
    "    ort_base = Vector2D{Int}((1,0)) # - этот вектор задает начальное базовое направление (горизонтално вправо)\n",
    "    while next!(convex_shell, points, ort_base) != i_start\n",
    "        ort_base = convex_shell[end] - convex_shell[end-1]  # - не нулевой вектор, задающий очередное базовое направление\n",
    "    end\n",
    "    return ConvexPolygon{T}(points[convex_shell]) # В конце и в начале массива convex_shell дважды содержится значение i_start \n",
    "end\n",
    "\n",
    "function next!(convex_shell::Vector{Int64}, points::Vector{Vector2D{T}}, ort_base::Vector2D{T}) where T<:Real\n",
    "    cos_max = typemin(T)\n",
    "    i_base = convex_shell[end]\n",
    "    resize!(convex_shell, length(convex_shell)+1)\n",
    "    for i in eachindex(points)\n",
    "        if points[i] == points[i_base] # тут не обязательно, что i == i_base\n",
    "            continue\n",
    "        end\n",
    "        ort_i = points[i] - points[i_base] # - не нулевой вектор, задающий направление на очередную точку\n",
    "        cos_i = cos(ort_base, ort_i)\n",
    "        if cos_i > cos_max\n",
    "            cos_max = cos_i\n",
    "            convex_shell[end] = i \n",
    "        elseif cos_i == cos_max && quad_len(ort_i) > quad_len(ort_base) # на луче, содержащем сторону выпуклого многоугольника, может оказаться более двух точек заданного множества (надо выбрать самую дальнюю из них)\n",
    "            convex_shell[end] = i\n",
    "        end\n",
    "    end\n",
    "    return convex_shell[end]\n",
    "end\n",
    "\n",
    "quad_len(vec) = dot(vec, vec)"
   ]
  },
  {
   "cell_type": "markdown",
   "metadata": {},
   "source": [
    " Написать функцию, реализующую алгоритм Грехома построения выпуклой оболочки заданных точек плоскости.\n"
   ]
  },
  {
   "cell_type": "code",
   "execution_count": 107,
   "metadata": {},
   "outputs": [
    {
     "data": {
      "text/plain": [
       "grekhom! (generic function with 1 method)"
      ]
     },
     "metadata": {},
     "output_type": "display_data"
    }
   ],
   "source": [
    "function grekhom!(points::Vector{Vector2D{T}})::ConvexPolygon{T} where T<:Real \n",
    "    ydata = (points[i][2] for i in 1:length(points))\n",
    "    i_start = findmin(ydata) # индекс самой нижней точки\n",
    "    points[begin], points[i_start] = points[i_start], points[begin]\n",
    "    sort!(@view(points[begin+1:end]), by = (point -> angle(point, Vector2D{T}(1,0))))\n",
    "    push!(points, points[begin]) # теперь points[end] == points[begin] \n",
    "    convex_polygon = [firstindex(points), firstindex(points)+1, firstindex(points)+2] # - в стек помещены первые 3 точки\n",
    "    for i in firstindex(points)+3:lastindex(points)\n",
    "        while sign(points[i]-points[convex_polygon[end]], points[convex_polygon[end-1]]-points[convex_polygon[end]]) < 0\n",
    "            pop!(convex_polygon)\n",
    "        end\n",
    "        push!(convex_polygon, i)\n",
    "    end\n",
    "    pop!(points) # из конца массива извлечена предварительно продублированная первая точка (чтобы исходный массив не содержал лишних точек)\n",
    "    return ConvexPolygon{T}(points[convex_polygon])  # convex_polygon[begin] == convex_polygon[end]\n",
    "end"
   ]
  },
  {
   "cell_type": "markdown",
   "metadata": {},
   "source": [
    " Написать функцию, возвращающую значение ориентированной площади заданного плоского многоугольника, воспользовавшись методом трапеций."
   ]
  },
  {
   "cell_type": "code",
   "execution_count": 93,
   "metadata": {},
   "outputs": [
    {
     "name": "stdout",
     "output_type": "stream",
     "text": [
      "4.0\n"
     ]
    }
   ],
   "source": [
    "A=Polygon{Float64}([Vector2D{Float64}((0.0,0.0)), Vector2D{Float64}((1.0,1.0)), Vector2D{Float64}((3.0,-1.0))])\n",
    "\n",
    "\n",
    "function Stropec(A::Polygon)\n",
    "    S=0\n",
    "    n=length(A.vertices)\n",
    "    for i in 1:n-1\n",
    "        S+=((A.vertices[i][2]+A.vertices[i+1][2])/2)*(A.vertices[i+1][1]-A.vertices[i][1])\n",
    "    end \n",
    "    S+=((A.vertices[n][2]+A.vertices[1][2])/2)*(A.vertices[1][1]-A.vertices[n][1])\n",
    "    return abs(S)\n",
    "end\n",
    "function Stropec(plg::Vector{Vector2D{T}}) where T\n",
    "    prev_p = plg[1]\n",
    "    s = 0\n",
    "    for i in 2:length(plg)\n",
    "        p = plg[i]\n",
    "        s += (prev_p.y+p.y)*(p.x-prev_p.x)/2\n",
    "        prev_p = p\n",
    "    end\n",
    "    return abs(s)\n",
    "end\n",
    "\n",
    "A=Polygon{Float64}([Vector2D{Float64}((0.0,1.0)), Vector2D{Float64}((2.0,1.0)), Vector2D{Float64}((2.0,-1.0)), Vector2D{Float64}((0.0,-1.0))])\n",
    "println(Stropec(A))"
   ]
  },
  {
   "cell_type": "markdown",
   "metadata": {},
   "source": [
    " Написать функцию, возвращающую значение ориентированной площади заданного плоского многоугольника, воспользовавшись методом треугольников ."
   ]
  },
  {
   "cell_type": "code",
   "execution_count": 94,
   "metadata": {},
   "outputs": [
    {
     "name": "stdout",
     "output_type": "stream",
     "text": [
      "4.000000000000002\n"
     ]
    }
   ],
   "source": [
    "function Streugolnik(C::Polygon)\n",
    "    S=0\n",
    "    n=length(C.vertices)\n",
    "    for i in 1:n-1\n",
    "        if (C.vertices[i][1]<C.vertices[i+1][1])\n",
    "            k=1\n",
    "        else\n",
    "            k=-1\n",
    "        end\n",
    "        s=(A=(x=C.vertices[i][1], y=C.vertices[i][2]), B=(x=0.0,y=0.0))\n",
    "        d=(A=(x=C.vertices[i+1][1], y=C.vertices[i+1][2]), B=(x=0.0,y=0.0))\n",
    "        alfa=angle_(s,d)\n",
    "        S+=sqrt((C.vertices[i][1])^2 + (C.vertices[i][2])^2)*sqrt((C.vertices[i+1][1])^2 + (C.vertices[i+1][2])^2)*sin(alfa)*k\n",
    "    end \n",
    "    s=(A=(x=C.vertices[n][1], y=C.vertices[n][2]), B=(x=0.0,y=0.0))\n",
    "    d=(A=(x=C.vertices[1][1], y=C.vertices[1][2]), B=(x=0.0,y=0.0))\n",
    "    alfa=angle_(s,d)\n",
    "    S-=sqrt((C.vertices[n][1])^2 + (C.vertices[n][2])^2)*sqrt((C.vertices[1][1])^2 + (C.vertices[1][2])^2)*sin(alfa)\n",
    "    return abs(S)\n",
    "end\n",
    "C=Polygon{Float64}([Vector2D{Float64}((0.0,1.0)), Vector2D{Float64}((2.0,1.0)), Vector2D{Float64}((2.0,-1.0)), Vector2D{Float64}((0.0,-1.0))])\n",
    "println(Streugolnik(C))"
   ]
  },
  {
   "cell_type": "markdown",
   "metadata": {},
   "source": [
    " Пусть имеется некоторый выпуклый многоугольник (выпуклая оболочка некотрого множества точек плоскости) и дана ещё дна тока. Требуется написать функцию, строющую выпуклую оболочку множества точек, включающее также и эту новую точку."
   ]
  },
  {
   "cell_type": "code",
   "execution_count": 95,
   "metadata": {},
   "outputs": [
    {
     "data": {
      "text/plain": [
       "add_point (generic function with 1 method)"
      ]
     },
     "metadata": {},
     "output_type": "display_data"
    }
   ],
   "source": [
    "function add_point(points::Vector{Vector2D{T}}, point::Vector2D{T}) where T\n",
    "    if isinner(point, points)\n",
    "        return points\n",
    "    end\n",
    "    vector_point = Vector2D{T}((0,0))\n",
    "    vector_nextp = Vector2D{T}((0, 0))\n",
    "    vector_currentp = Vector2D{T}((points[1].x-points[end-1].x, points[1].y-points[end-1].y)) \n",
    "    for i in 1:length(points)-1\n",
    "        vector_point = Vector2D{T}((point.x-points[i].x, point.y-points[i].y))\n",
    "        vector_nextp = Vector2D{T}((points[i+1].x-points[i].x, points[i+1].y-points[i].y))\n",
    "        if (angle_(vector_currentp, vector_nextp) >= angle_(vector_currentp, vector_point))\n",
    "            k = i+1\n",
    "            while true\n",
    "                if k == length(points)\n",
    "                    figure= points[:]\n",
    "                    insert!(figure, k, point)\n",
    "                    return figure\n",
    "                end\n",
    "                vector_point = Vector2D{T}((points[k].x-point.x, points[k].y-point.y))\n",
    "                vector_mnext = Vector2D{T}((points[k+1].x-point.x, points[k+1].y-point.y))\n",
    "                if angle_(vector_currentp, vector_point) >= angle_(vector_currentp, vector_mnext)\n",
    "                    figure = points[begin:i]\n",
    "                    push!(figure, point) #пересоздается оболчка, затраты памяти\n",
    "                    append!(figure, points[k:end])\n",
    "                    return figure\n",
    "                end\n",
    "                k+=1\n",
    "            end\n",
    "        end\n",
    "        vector_currentp=vector_nextp\n",
    "    end\n",
    "end"
   ]
  },
  {
   "cell_type": "markdown",
   "metadata": {},
   "source": [
    " Реализовать построение выпуклой оболочки указанным выше способом."
   ]
  },
  {
   "cell_type": "code",
   "execution_count": 96,
   "metadata": {},
   "outputs": [
    {
     "data": {
      "text/plain": [
       "creat_figure (generic function with 1 method)"
      ]
     },
     "metadata": {},
     "output_type": "display_data"
    }
   ],
   "source": [
    "function creat_figure(points::Vector{Vector2D{T}}) where T\n",
    "    figure = points[1:3]\n",
    "    push!(figure,points[1])\n",
    "    for i in points[4:end]\n",
    "        figure = add_point(figure, i)\n",
    "    end\n",
    "    return figure\n",
    "end "
   ]
  },
  {
   "cell_type": "code",
   "execution_count": 97,
   "metadata": {},
   "outputs": [
    {
     "data": {
      "text/plain": [
       "6-element Vector{NamedTuple{(:x, :y), Tuple{Float64, Float64}}}:\n",
       " (x = 0.0, y = 0.0)\n",
       " (x = 3.5, y = 7.5)\n",
       " (x = 35.5, y = 37.5)\n",
       " (x = 6.5, y = 4.5)\n",
       " (x = 6.0, y = 6.0)\n",
       " (x = 0.0, y = 0.0)"
      ]
     },
     "metadata": {},
     "output_type": "display_data"
    }
   ],
   "source": [
    "a=Vector2D{Float64}((0.0,0.0))\n",
    "b=Vector2D{Float64}((4.5,1.5))\n",
    "c=Vector2D{Float64}((6.5,4.5))\n",
    "d=Vector2D{Float64}((0.0,6.4))\n",
    "e=Vector2D{Float64}((3.5,7.5))\n",
    "g=Vector2D{Float64}((6.0,6.0))\n",
    "k=Vector2D{Float64}((35.5,37.5))\n",
    "points = Vector{Vector2D{Float64}}([a,b,c,e,g,k])\n",
    "creat_figure(points)"
   ]
  },
  {
   "cell_type": "markdown",
   "metadata": {},
   "source": [
    " Пусть в дополнение к условию задачи 6 известна площадь имеющейся выпуклой оболочки. Требуется аналогично задаче 7 реализовать вычисление индуктивной функции, возвращающей как саму выпуклую оболочку, так и ее площадь."
   ]
  },
  {
   "cell_type": "code",
   "execution_count": 98,
   "metadata": {},
   "outputs": [
    {
     "data": {
      "text/plain": [
       "add_point_with_S (generic function with 1 method)"
      ]
     },
     "metadata": {},
     "output_type": "display_data"
    }
   ],
   "source": [
    "function add_point_with_S(points::Vector{Vector2D{T}}, point::Vector2D{T}, S::T) where T\n",
    "    figure=add_point(points,point)\n",
    "    return figure,Stropec(figure)\n",
    "end"
   ]
  },
  {
   "cell_type": "code",
   "execution_count": 99,
   "metadata": {},
   "outputs": [
    {
     "data": {
      "text/plain": [
       "(NamedTuple{(:x, :y), Tuple{Float64, Float64}}[(x = 0.0, y = 0.0), (x = 3.5, y = 7.5), (x = 35.5, y = 37.5), (x = 6.5, y = 4.5), (x = 6.0, y = 6.0), (x = 0.0, y = 0.0)], 103.5)"
      ]
     },
     "metadata": {},
     "output_type": "display_data"
    }
   ],
   "source": [
    "a=Vector2D{Float64}((0.0,0.0))\n",
    "b=Vector2D{Float64}((4.5,1.5))\n",
    "c=Vector2D{Float64}((6.5,4.5))\n",
    "d=Vector2D{Float64}((0.0,6.4))\n",
    "e=Vector2D{Float64}((3.5,7.5))\n",
    "g=Vector2D{Float64}((6.0,6.0))\n",
    "k=Vector2D{Float64}((35.5,37.5))\n",
    "points = Vector{Vector2D{Float64}}([a,b,c,e,g])\n",
    "figure=creat_figure(points)\n",
    "S=Stropec(figure)\n",
    "add_point_with_S(figure,k,S)\n",
    "\n"
   ]
  },
  {
   "cell_type": "markdown",
   "metadata": {},
   "source": [
    " Написать функцию, проверяющую, явлется ли заданная последовательность точек (пердставленная типом Vector{Vector2D}), вершинами некоторого многоугольника (у многоугольника никакие две его стороны не пересекаются внутренним образом)."
   ]
  },
  {
   "cell_type": "code",
   "execution_count": 100,
   "metadata": {},
   "outputs": [
    {
     "name": "stdout",
     "output_type": "stream",
     "text": [
      "true\n"
     ]
    }
   ],
   "source": [
    "\n",
    "#- Проверка, является ли заданный плоский многоугольник выпуклым.\n",
    "function CheckFigure(C::Vector{Vector2D{T}}) where T\n",
    "    n=length(C)\n",
    "    for i in 1:n\n",
    "        for j in 1:n\n",
    "            if (i!=j)\n",
    "                if (C[i].x==C[j].x && C[i].y==C[j].y)\n",
    "                    return false\n",
    "                end\n",
    "            end\n",
    "        end\n",
    "    end\n",
    "    Q=[]\n",
    "    for i in 1:n-1\n",
    "        push!(Q,(A=(x=C[i].x,y=C[i].y), B=(x=C[i+1].x,y=C[i+1].y)))\n",
    "    end\n",
    "    push!(Q,(A=(x=C[1].x,y=C[1].y), B=(x=C[n].x,y=C[n].y)))\n",
    "    for i in 1:length(Q)\n",
    "        for j in 1:length(Q)\n",
    "            if (i!=j)\n",
    "                alfa=intersect(Q[i],Q[j])\n",
    "                if (alfa==nothing || alfa==Q[i].A || alfa==Q[i].B ||  alfa==Q[j].A || alfa==Q[j].B)\n",
    "                else\n",
    "                    return false\n",
    "                end\n",
    "            end\n",
    "        end\n",
    "    end\n",
    "    return true\n",
    "end\n",
    "a=Vector2D{Float64}((0.0,0.0))\n",
    "b=Vector2D{Float64}((1.0,1.0))\n",
    "c=Vector2D{Float64}((3.0,-1.0))\n",
    "D = Vector{Vector2D{Float64}}([a,b,c])\n",
    "println(CheckFigure(D))"
   ]
  },
  {
   "cell_type": "markdown",
   "metadata": {},
   "source": [
    " Написать функцию, вычисляющую выпуклую оболочку объединения некоторых двух множест точек плоскости, если заданы выпуклые оболочки каждого из них (сами множества считаются не заданными)."
   ]
  },
  {
   "cell_type": "code",
   "execution_count": 101,
   "metadata": {},
   "outputs": [
    {
     "data": {
      "text/plain": [
       "creat_figure2 (generic function with 1 method)"
      ]
     },
     "metadata": {},
     "output_type": "display_data"
    }
   ],
   "source": [
    "function creat_figure2(points1::Vector{Vector2D{T}},points2::Vector{Vector2D{T}}) where T\n",
    "    figure = points1[1:3]\n",
    "    push!(figure,points1[1])\n",
    "    for i in points1[4:end]\n",
    "        figure = add_point(figure, i)\n",
    "    end\n",
    "    for j in points2[1:end]\n",
    "        figure = add_point(figure, j)\n",
    "    end\n",
    "    return figure\n",
    "end "
   ]
  },
  {
   "cell_type": "code",
   "execution_count": 102,
   "metadata": {},
   "outputs": [
    {
     "data": {
      "text/plain": [
       "6-element Vector{NamedTuple{(:x, :y), Tuple{Float64, Float64}}}:\n",
       " (x = 0.0, y = 0.0)\n",
       " (x = 3.5, y = 7.5)\n",
       " (x = 56.5, y = 88.5)\n",
       " (x = 35.5, y = 37.5)\n",
       " (x = 7.0, y = 6.4)\n",
       " (x = 0.0, y = 0.0)"
      ]
     },
     "metadata": {},
     "output_type": "display_data"
    }
   ],
   "source": [
    "a=Vector2D{Float64}((0.0,0.0))\n",
    "b=Vector2D{Float64}((4.5,2.0))\n",
    "c=Vector2D{Float64}((6.5,5.0))\n",
    "d=Vector2D{Float64}((7.0,6.4))\n",
    "e=Vector2D{Float64}((3.5,7.5))\n",
    "g=Vector2D{Float64}((6.0,6.0))\n",
    "k=Vector2D{Float64}((35.5,37.5))\n",
    "l=Vector2D{Float64}((56.5,88.5))\n",
    "points1 = Vector{Vector2D{Float64}}([a,b,c,d])\n",
    "points2 = Vector{Vector2D{Float64}}([e,g,k,l])\n",
    "creat_figure2(points1,points2)\n"
   ]
  },
  {
   "cell_type": "markdown",
   "metadata": {},
   "source": [
    " Написать функцию, вычисляющую выпуклую оболочку пересечения каких-либо двух множест точек плоскости, если заданы выпуклые оболочки каждого из них (сами множества считаются не заданными)."
   ]
  },
  {
   "cell_type": "code",
   "execution_count": 103,
   "metadata": {},
   "outputs": [
    {
     "data": {
      "text/plain": [
       "isinnerF (generic function with 1 method)"
      ]
     },
     "metadata": {},
     "output_type": "display_data"
    }
   ],
   "source": [
    "Base.angle(a::Vector2D{T}, b::Vector2D{T}) where T = atan(sin(a,b),cos(a,b))\n",
    "function isinnerF(A::Vector2D{T}, polygon::Vector{Vector2D{T}})::Bool where T\n",
    "    # проверка принадлежности точки внутренности многоугольника (не обязательно выпуклого)\n",
    "        sum_angles = 0.0\n",
    "        for i in firstindex(polygon):lastindex(polygon)-1\n",
    "            sum_angles += angle(polygon[i+1]-A, polygon[i]-A)\n",
    "        end\n",
    "    \n",
    "        if sum_angles < pi # фактически равно 0\n",
    "            return true # точка внутри многоугольника\n",
    "        else\n",
    "            return false # точка снаружи\n",
    "        end\n",
    "end"
   ]
  },
  {
   "cell_type": "code",
   "execution_count": 104,
   "metadata": {},
   "outputs": [
    {
     "data": {
      "text/plain": [
       "4-element Vector{NamedTuple{(:x, :y), Tuple{Float64, Float64}}}:\n",
       " (x = 1.1, y = 1.1)\n",
       " (x = 1.4, y = 1.5)\n",
       " (x = 2.0, y = 1.0)\n",
       " (x = 1.1, y = 1.1)"
      ]
     },
     "metadata": {},
     "output_type": "display_data"
    }
   ],
   "source": [
    "function intersect(s1::Segment2D{T},s2::Segment2D{T}) where T\n",
    "    A = [s1.B[2]-s1.A[2]  s1.A[1]-s1.B[1]\n",
    "         s2.B[2]-s2.A[2]  s2.A[1]-s2.B[1]]\n",
    "    b = [s1.A[2]*(s1.A[1]-s1.B[1]) + s1.A[1]*(s1.B[2]-s1.A[2])\n",
    "         s2.A[2]*(s2.A[1]-s2.B[1]) + s2.A[1]*(s2.B[2]-s2.A[2])]\n",
    "    x,y = A\\b\n",
    "    if isinner((;x, y), s1)==false || isinner((;x, y), s2)==false\n",
    "        return nothing\n",
    "    end\n",
    "    return Vector2D{T}((x,y))\n",
    "end\n",
    "\n",
    "isinner(P::Vector2D, s::Segment2D) = (s.A.x <= P.x <= s.B.x || s.A.x >= P.x >= s.B.x) && \n",
    "                                     (s.A.y <= P.y <= s.B.y || s.A.y >= P.y >= s.B.y)\n",
    "\n",
    "                                                            \n",
    "function creat_figure3(points1::Vector{Vector2D{T}},points2::Vector{Vector2D{T}}) where T\n",
    "    n=length(points1)\n",
    "    m=length(points2)\n",
    "    Q=[]\n",
    "    Figure=Vector{Vector2D{Float64}}()\n",
    "    for i in 1:n-1\n",
    "        push!(Q,(A=(x=points1[i].x,y=points1[i].y), B=(x=points1[i+1].x,y=points1[i+1].y)))\n",
    "    end\n",
    "    push!(Q,(A=(x=points1[1].x,y=points1[1].y), B=(x=points1[n].x,y=points1[n].y)))\n",
    "    for i in 1:m-1\n",
    "        push!(Q,(A=(x=points2[i].x,y=points2[i].y), B=(x=points2[i+1].x,y=points2[i+1].y)))\n",
    "    end\n",
    "    push!(Q,(A=(x=points2[1].x,y=points2[1].y), B=(x=points2[m].x,y=points2[m].y)))\n",
    "    for i in 1:length(Q)\n",
    "        for j in 1:length(Q)\n",
    "            if(i<j)\n",
    "                alfa=intersect(Q[i],Q[j])\n",
    "                if (alfa==nothing || alfa==Q[i].A || alfa==Q[i].B ||  alfa==Q[j].A || alfa==Q[j].B)\n",
    "                else\n",
    "                    push!(Figure,alfa)\n",
    "                end\n",
    "            end\n",
    "        end\n",
    "    end\n",
    "    for i in 1:n\n",
    "        if (!isinnerF(points1[i],points2))\n",
    "            push!(Figure,points1[i])\n",
    "        end\n",
    "    end      \n",
    "    for j in 1:m\n",
    "        if (!isinnerF(points2[j],points1))\n",
    "            push!(Figure,points2[j])\n",
    "        end\n",
    "    end     \n",
    "    return (creat_figure(Figure))\n",
    "end \n",
    "a=Vector2D{Float64}((0.0,0.0))\n",
    "b=Vector2D{Float64}((0.5,2.0))\n",
    "c=Vector2D{Float64}((5.0,1.0))\n",
    "d=Vector2D{Float64}((1.1,1.1))\n",
    "e=Vector2D{Float64}((1.4,1.5))\n",
    "g=Vector2D{Float64}((2.0,1.0))\n",
    "points1 = Vector{Vector2D{Float64}}([a,b,c])\n",
    "points2 = Vector{Vector2D{Float64}}([d,e,g])\n",
    "creat_figure3(points1,points2)"
   ]
  },
  {
   "cell_type": "code",
   "execution_count": 105,
   "metadata": {},
   "outputs": [
    {
     "data": {
      "text/plain": [
       "5-element Vector{NamedTuple{(:x, :y), Tuple{Float64, Float64}}}:\n",
       " (x = 2.6, y = 2.2)\n",
       " (x = 1.0, y = 1.0)\n",
       " (x = 3.6666666666666665, y = 0.7333333333333333)\n",
       " (x = 5.0, y = 1.0)\n",
       " (x = 2.6, y = 2.2)"
      ]
     },
     "metadata": {},
     "output_type": "display_data"
    }
   ],
   "source": [
    "a=Vector2D{Float64}((0.0,0.0))\n",
    "b=Vector2D{Float64}((1.0,3.0))\n",
    "c=Vector2D{Float64}((5.0,1.0))\n",
    "d=Vector2D{Float64}((1.0,1.0))\n",
    "e=Vector2D{Float64}((9.0,7.0))\n",
    "g=Vector2D{Float64}((7.0,0.4))\n",
    "points3 = Vector{Vector2D{Float64}}([a,b,c])\n",
    "points4 = Vector{Vector2D{Float64}}([d,e,g])\n",
    "creat_figure3(points3,points4)"
   ]
  }
 ],
 "metadata": {
  "interpreter": {
   "hash": "397704579725e15f5c7cb49fe5f0341eb7531c82d19f2c29d197e8b64ab5776b"
  },
  "kernelspec": {
   "display_name": "Julia 1.6.2",
   "language": "julia",
   "name": "julia-1.6"
  },
  "language_info": {
   "file_extension": ".jl",
   "mimetype": "application/julia",
   "name": "julia",
   "version": "1.6.2"
  },
  "orig_nbformat": 4
 },
 "nbformat": 4,
 "nbformat_minor": 2
}
